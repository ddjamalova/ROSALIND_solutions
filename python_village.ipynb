{
 "cells": [
  {
   "cell_type": "code",
   "execution_count": 267,
   "id": "1c30aca4-33d7-487c-a3c9-136ff5d62286",
   "metadata": {},
   "outputs": [],
   "source": [
    "import numpy as np"
   ]
  },
  {
   "cell_type": "markdown",
   "id": "14214fb5-5a96-487d-be2f-68b622f3102d",
   "metadata": {},
   "source": [
    "**Variables and Some Arithmetic**"
   ]
  },
  {
   "cell_type": "code",
   "execution_count": 269,
   "id": "21694091-07e1-476c-b0ff-ece0fa1b086a",
   "metadata": {},
   "outputs": [
    {
     "name": "stdout",
     "output_type": "stream",
     "text": [
      "34\n"
     ]
    }
   ],
   "source": [
    "a = 3\n",
    "b = 5\n",
    "print(a**2 + b**2)"
   ]
  },
  {
   "cell_type": "markdown",
   "id": "e10543e5-6333-4aa6-88ef-084693976957",
   "metadata": {},
   "source": [
    "**Strings and Lists**"
   ]
  },
  {
   "cell_type": "code",
   "execution_count": 270,
   "id": "e94173a1-1ce4-4d56-9f77-b5f9fe6afd14",
   "metadata": {},
   "outputs": [
    {
     "name": "stdout",
     "output_type": "stream",
     "text": [
      "Humpty Dumpty\n"
     ]
    }
   ],
   "source": [
    "s = 'HumptyDumptysatonawallHumptyDumptyhadagreatfallAlltheKingshorsesandalltheKingsmenCouldntputHumptyDumptyinhisplaceagain.'\n",
    "a,b,c,d = 22,27,97,102\n",
    "\n",
    "print(s[a:b+1], s[c:d+1])"
   ]
  },
  {
   "cell_type": "markdown",
   "id": "3e20b502-0cdc-4b84-a23a-5d2a7b07490f",
   "metadata": {},
   "source": [
    "**Conditions and Loops**"
   ]
  },
  {
   "cell_type": "code",
   "execution_count": 271,
   "id": "5e994fe9-4b3c-4e6b-8f19-ee25a717a34d",
   "metadata": {},
   "outputs": [
    {
     "name": "stdout",
     "output_type": "stream",
     "text": [
      "7500\n"
     ]
    }
   ],
   "source": [
    "a = 100\n",
    "b = 200\n",
    " \n",
    "count = []\n",
    "for i in np.arange(a,b+1):\n",
    "    if i%2 !=0:\n",
    "        count.append(i)\n",
    "        \n",
    "print(sum(count))"
   ]
  },
  {
   "cell_type": "markdown",
   "id": "1c807e6b-b5f3-41d9-bacf-49432beab8b8",
   "metadata": {},
   "source": [
    "**Working with Files**"
   ]
  },
  {
   "cell_type": "code",
   "execution_count": 297,
   "id": "ff1de12b-348e-4d8c-aa40-8971792a0133",
   "metadata": {},
   "outputs": [],
   "source": [
    "output = open(\"output.txt\", 'w')\n",
    "with open(\"input.txt\", 'r') as f:\n",
    "    file = f.readlines()\n",
    "    \n",
    "    for i in range(1, len(file)):\n",
    "        if i % 2:\n",
    "            output.write(file[i])\n",
    "output.close()"
   ]
  },
  {
   "cell_type": "markdown",
   "id": "6c9d539a-28f3-4059-ac88-0d065ae95609",
   "metadata": {},
   "source": [
    "**Dictionaries**"
   ]
  },
  {
   "cell_type": "code",
   "execution_count": 299,
   "id": "599cb15c-4745-47b4-b968-85fae20ddbc9",
   "metadata": {},
   "outputs": [
    {
     "name": "stdout",
     "output_type": "stream",
     "text": [
      "We 1\n",
      "tried 3\n",
      "list 1\n",
      "and 1\n",
      "we 2\n",
      "dicts 1\n",
      "also 1\n",
      "Zen 1\n"
     ]
    }
   ],
   "source": [
    "string = \"We tried list and we tried dicts also we tried Zen\"\n",
    "\n",
    "d = {}\n",
    "for i in string.split(' '):\n",
    "    d[i] = string.count(i)\n",
    "    \n",
    "for k,v in d.items():\n",
    "    print(k,v, end='\\n')"
   ]
  }
 ],
 "metadata": {
  "kernelspec": {
   "display_name": "Python 3 (ipykernel)",
   "language": "python",
   "name": "python3"
  },
  "language_info": {
   "codemirror_mode": {
    "name": "ipython",
    "version": 3
   },
   "file_extension": ".py",
   "mimetype": "text/x-python",
   "name": "python",
   "nbconvert_exporter": "python",
   "pygments_lexer": "ipython3",
   "version": "3.9.7"
  }
 },
 "nbformat": 4,
 "nbformat_minor": 5
}
