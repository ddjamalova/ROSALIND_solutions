{
 "cells": [
  {
   "cell_type": "code",
   "execution_count": 37,
   "id": "0d7e3a1c-4b74-4fb6-bcba-fe990efc3338",
   "metadata": {},
   "outputs": [],
   "source": [
    "from Bio.SeqUtils import Seq"
   ]
  },
  {
   "cell_type": "markdown",
   "id": "2ad27d28-d98b-4bd2-aadf-1978f3e129b2",
   "metadata": {},
   "source": [
    "**Introduction to the Bioinformatics Armory**"
   ]
  },
  {
   "cell_type": "code",
   "execution_count": 38,
   "id": "1f7d874c-2e64-4524-ae9c-ca6ed1b11603",
   "metadata": {},
   "outputs": [
    {
     "name": "stdout",
     "output_type": "stream",
     "text": [
      "246 234 226 226\n"
     ]
    }
   ],
   "source": [
    "with open(\"/home/djamalova/Downloads/input.txt\", 'r') as f:\n",
    "    st = f.readlines()\n",
    "    seq = Seq(st[0])\n",
    "    print(seq.count('A'), seq.count('C'), seq.count('G'), seq.count('T'), sep=' ')"
   ]
  },
  {
   "cell_type": "markdown",
   "id": "39872292-495b-4924-9fb7-4901dac939ec",
   "metadata": {},
   "source": [
    "**GenBank Introduction**"
   ]
  },
  {
   "cell_type": "code",
   "execution_count": 40,
   "id": "c4f8308c-6621-4536-b2a8-31b9473c282d",
   "metadata": {},
   "outputs": [
    {
     "data": {
      "text/plain": [
       "'63'"
      ]
     },
     "execution_count": 40,
     "metadata": {},
     "output_type": "execute_result"
    }
   ],
   "source": [
    "from Bio import Entrez\n",
    "Entrez.email = \"djamalovadilfuza1995@gmail.com\"\n",
    "handle = Entrez.esearch(db=\"nucleotide\", term='\"Anthoxanthum\"[Organism] AND rbcL[Gene]')\n",
    "record = Entrez.read(handle)\n",
    "record[\"Count\"]"
   ]
  },
  {
   "cell_type": "markdown",
   "id": "8d6bb091-4cc9-466d-b38d-42f840cd2bd3",
   "metadata": {},
   "source": [
    "**Data Formats**"
   ]
  },
  {
   "cell_type": "code",
   "execution_count": null,
   "id": "c8a9f037-6f23-4037-8726-72bf2d191daf",
   "metadata": {},
   "outputs": [],
   "source": []
  }
 ],
 "metadata": {
  "kernelspec": {
   "display_name": "Python 3 (ipykernel)",
   "language": "python",
   "name": "python3"
  },
  "language_info": {
   "codemirror_mode": {
    "name": "ipython",
    "version": 3
   },
   "file_extension": ".py",
   "mimetype": "text/x-python",
   "name": "python",
   "nbconvert_exporter": "python",
   "pygments_lexer": "ipython3",
   "version": "3.9.7"
  }
 },
 "nbformat": 4,
 "nbformat_minor": 5
}
