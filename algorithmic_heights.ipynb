{
 "cells": [
  {
   "cell_type": "markdown",
   "id": "245a0a0c-2185-4420-9565-ab8c446cf5f6",
   "metadata": {},
   "source": [
    "**Fibonacci Numbers**"
   ]
  },
  {
   "cell_type": "code",
   "execution_count": null,
   "id": "eeae3482-8d6b-4f80-b951-6562fb905e2b",
   "metadata": {},
   "outputs": [],
   "source": [
    "k = 6\n",
    "n1, n2 = 0, 1\n",
    "count = 0\n",
    "while count < k+1:\n",
    "    nth = n1+n2\n",
    "    print(count, n1)\n",
    "    n1=n2\n",
    "    n2=nth\n",
    "    count+=1"
   ]
  }
 ],
 "metadata": {
  "kernelspec": {
   "display_name": "Python 3 (ipykernel)",
   "language": "python",
   "name": "python3"
  },
  "language_info": {
   "codemirror_mode": {
    "name": "ipython",
    "version": 3
   },
   "file_extension": ".py",
   "mimetype": "text/x-python",
   "name": "python",
   "nbconvert_exporter": "python",
   "pygments_lexer": "ipython3",
   "version": "3.9.7"
  }
 },
 "nbformat": 4,
 "nbformat_minor": 5
}
