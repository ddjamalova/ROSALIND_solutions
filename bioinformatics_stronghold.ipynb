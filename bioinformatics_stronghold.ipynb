{
 "cells": [
  {
   "cell_type": "code",
   "execution_count": 22,
   "id": "ad24b46b-a1c1-42f1-b6df-64c0d5c03dcf",
   "metadata": {},
   "outputs": [],
   "source": [
    "from Bio.SeqUtils import Seq, gc_fraction\n",
    "from Bio import SeqIO"
   ]
  },
  {
   "cell_type": "markdown",
   "id": "6ed345cf-1193-4bc7-86ca-8f87c708c38d",
   "metadata": {},
   "source": [
    "**Counting DNA Nucleotides**"
   ]
  },
  {
   "cell_type": "code",
   "execution_count": 6,
   "id": "ef32d110-d147-4018-b214-78a621417237",
   "metadata": {},
   "outputs": [
    {
     "name": "stdout",
     "output_type": "stream",
     "text": [
      "20 12 17 21\n"
     ]
    }
   ],
   "source": [
    "s = Seq(\"AGCTTTTCATTCTGACTGCAACGGGCAATATGTCTCTGTGTGGATTAAAAAAAGAGTGTCTGATAGCAGC\")\n",
    "print(s.count('A'), s.count('C'), s.count('G'), s.count('T'))"
   ]
  },
  {
   "cell_type": "markdown",
   "id": "896df800-7375-414c-9aa3-b92f48f3d57e",
   "metadata": {},
   "source": [
    "**Transcribing DNA into RNA**"
   ]
  },
  {
   "cell_type": "code",
   "execution_count": 7,
   "id": "e749bf4e-a816-4d4d-ac76-3e4512328c4f",
   "metadata": {},
   "outputs": [],
   "source": [
    "s = Seq(\"GATGGAACTTGACTACGTAAATT\")\n",
    "t = s.transcribe()"
   ]
  },
  {
   "cell_type": "markdown",
   "id": "e9669fb9-7450-4fed-bee2-62ac38c33adc",
   "metadata": {},
   "source": [
    "**Complementing a Strand of DNA**"
   ]
  },
  {
   "cell_type": "code",
   "execution_count": 11,
   "id": "ded045d5-1226-4307-ac6d-006cda655bea",
   "metadata": {},
   "outputs": [],
   "source": [
    "s = Seq(\"AAAACCCGGT\")\n",
    "c = s.reverse_complement()"
   ]
  },
  {
   "cell_type": "markdown",
   "id": "c88b8912-a423-4c38-afde-121a3cc8e494",
   "metadata": {},
   "source": [
    "**Computing GC Content**"
   ]
  },
  {
   "cell_type": "code",
   "execution_count": 31,
   "id": "ca39c041-e386-4ce2-b9a2-0b68f961f9fb",
   "metadata": {},
   "outputs": [
    {
     "name": "stdout",
     "output_type": "stream",
     "text": [
      "Rosalind_4148\n",
      "0.5062344139650873\n"
     ]
    }
   ],
   "source": [
    "gc = {}\n",
    "\n",
    "for rec in SeqIO.parse(open(\"rosalind_gc.txt\", 'r'), 'fasta'):\n",
    "    gc[rec.id] = gc_fraction(rec.seq)\n",
    "    \n",
    "max_id = max(gc, key=gc.get)\n",
    "\n",
    "v = gc.get(max_id)\n",
    "\n",
    "print(max_id, v, sep='\\n')"
   ]
  },
  {
   "cell_type": "markdown",
   "id": "5a4d707d-5a5e-4535-a241-3d92b6b2ca9d",
   "metadata": {},
   "source": [
    "**Finding a Motif in DNA**"
   ]
  },
  {
   "cell_type": "code",
   "execution_count": 34,
   "id": "db22f855-8b94-4ffa-8a67-ddab9870ab19",
   "metadata": {},
   "outputs": [
    {
     "name": "stdout",
     "output_type": "stream",
     "text": [
      "2 33 58 175 220 356 363 397 434 441 487 502 509 538 545 692 710 726 783 799 821 865 872\n"
     ]
    }
   ],
   "source": [
    "s = \"GCAGTCAGCAGTCAGCCAGTCAGCCAGTCAGGCAGTCAGCAGTCAGTACAGTCAGGGCAGTCAGCAGTCAGCCTTGGGCCAGTCAGCTATCAGTCAGACAACAGTCAGTCAGTCAGGGCAGCAGTCAGGCCCAGTCAGGCTGCAGTCAGGTCCGCAGTCAGACAGTCAGGAGTACAGTCAGCAGTCAGTGCAGTCAGAGTCCGCTCTCCCGCATAGACTCAGTCAGCAGTCAGATCAGTCAGGCTGATGTGAGTCTGCAGTCAGCGATAGATAGGTGGGGGCAGTCAGCCAATCCTGCAGTCAGAACAGTCAGTGCGTCAGTCAGGGTTTCTCAGTCAGACGTACCAGTCAGATACAGTCAGCAGTCAGCAGTCAGCCTCCAGTCAGACAGTCAGTCAGTCAGCAGTCAGGACAGTCAGGGACAATTATGAATCAGTCAGCAGTCAGCAGTCAGGGGTCCAGTCAGTAGCCAGTCAGCGCAAAGATCAGTCAGCAGTCAGGCAGTCAGCAGTCAGCAGTCAGGTTTCCAGATACCCACAGTCAGCAGTCAGCAGTCAGACAGTCAGCTGCTCGGATGCAGTCAGCGATGAGAGAACAGTCAGGACCCAGTCAGTCACTAACCAGTCAGACAGTCAGATACCCCAGTCAGACAGTCAGTCCAGTCAGATTGTACAGTCAGTACAGTCAGCCTCAGTCAGCAGTCAGCTGACAGTCAGCAGTCAGCGCAGTCAGCAGTCAGCGACAGTCAGGAACCATCAGTCAGCCAGTCAGGCAGTCAGGGCCAGTCAGCAGTCAGTTCAGTCAGCAGTCAGTGCACCGACAGTCAGCAGTCAGGCAGTCAGAGTGACACAGTCAGAGTTAGGGCAGTCAGCAGTCAGCAGTCAGTCCAGTCAGCGAGTCTTT\"\n",
    "t = \"CAGTCAGCA\"\n",
    "\n",
    "l = []\n",
    "for position in range(len(s)):\n",
    "    if s[position:].startswith(t):\n",
    "        l.append(position + 1)\n",
    "        \n",
    "result = ' '.join(str(item) for item in l) # print without comma for Rosalind\n",
    "print(result)"
   ]
  },
  {
   "cell_type": "markdown",
   "id": "a71ccaab-c63f-4d24-b6bb-61e2577bff92",
   "metadata": {},
   "source": [
    "**Rabbits and Recurrence Relations**"
   ]
  },
  {
   "cell_type": "code",
   "execution_count": null,
   "id": "7cc5a511-a605-4143-b58e-4102f67ddba9",
   "metadata": {},
   "outputs": [],
   "source": []
  },
  {
   "cell_type": "code",
   "execution_count": null,
   "id": "4d0ef2d4-7bd1-4d1f-b556-f6379d4f2522",
   "metadata": {},
   "outputs": [],
   "source": []
  }
 ],
 "metadata": {
  "kernelspec": {
   "display_name": "Python 3 (ipykernel)",
   "language": "python",
   "name": "python3"
  },
  "language_info": {
   "codemirror_mode": {
    "name": "ipython",
    "version": 3
   },
   "file_extension": ".py",
   "mimetype": "text/x-python",
   "name": "python",
   "nbconvert_exporter": "python",
   "pygments_lexer": "ipython3",
   "version": "3.9.7"
  }
 },
 "nbformat": 4,
 "nbformat_minor": 5
}
